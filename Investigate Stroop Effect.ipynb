{
 "cells": [
  {
   "cell_type": "markdown",
   "metadata": {},
   "source": [
    "<h1 align=\"center\">Investigate Stroop Effect</h1>\n",
    "***\n"
   ]
  },
  {
   "cell_type": "markdown",
   "metadata": {},
   "source": [
    "<font size='4'>In this project will review the basic concepts of statistics, including:\n",
    " - How to identify components of an experiment.\n",
    " - How to use descriptive> statistics to describe qualities of a sample.\n",
    " - How to set up a hypothesis test, make inferences from a sample, and draw conclusions based on the results.\n"
   ]
  },
  {
   "cell_type": "markdown",
   "metadata": {},
   "source": [
    "<font size='4'>What is our independent and dependent variable?<br> \n",
    ">Independent variable is a variable that is being manipulated in an experiment in order to observe the effect\n",
    "on a dependent variable.It is usually plotted along the x-axis of a graph.<br>\n",
    "Congruent/Incogruent Stroop Test Score is the independent variable and is plotted on the X-axis.<br>\n",
    "The time taken to perform Congruent/Incogruent test in seconds is the dependant variable and is usually\n",
    "plotted on Y axis."
   ]
  },
  {
   "cell_type": "markdown",
   "metadata": {},
   "source": [
    "<font size='4'>What is an appropriate set of hypotheses for this task? What kind of statistical test do you expect to perform? Justify your choices.<br>\n",
    ">Null Hypothesis:The mean of the population congruntent and Incorgruent stroop test are equal.<br>\n",
    "$H_o : \\mu_c=\\mu_i$<br>\n",
    ">Alternative hypothesis:The mean of population congruent test and incrocruent test are not equal.Since the popuation standard deviation is not known we will do t-Test for paired sample which are dependant.The sample is dependent because we are measuring the time taken to complete the stroop test for congruent and incogruent data but for the same person.<br>\n",
    "$H_a : \\mu_c \\ne \\mu_i$<br>\n",
    "We will measure effect size by calculating Cohen D and calculate the Confidence interval of the difference in times(in second). between the two test."
   ]
  },
  {
   "cell_type": "markdown",
   "metadata": {
    "collapsed": true
   },
   "source": [
    "<font size=4>Assumptions regarding the paired t-Test are as follows:"
   ]
  },
  {
   "cell_type": "markdown",
   "metadata": {},
   "source": [
    "<font size='4'>Interval or ratio scale of measurement (approximately interval)<br>\n",
    " - Random sampling from a defined population.\n",
    " - Samples or sets of data used to produce the difference scores are linked in the population through repeated   \n",
    "   measurement,natural association, or matching.\n",
    " - Scores are normally distributed in the population; difference scores are normally distributed."
   ]
  },
  {
   "cell_type": "markdown",
   "metadata": {},
   "source": [
    "<font size='4'> Report some descriptive statistics regarding this dataset.Include at least one measure of central tendency and at least one measure of variability.?"
   ]
  },
  {
   "cell_type": "code",
   "execution_count": 4,
   "metadata": {
    "collapsed": true
   },
   "outputs": [],
   "source": [
    "#importing pandas\n",
    "import pandas as pd"
   ]
  },
  {
   "cell_type": "code",
   "execution_count": 5,
   "metadata": {
    "collapsed": false
   },
   "outputs": [],
   "source": [
    "# Reading the csv file\n",
    "df=pd.read_csv('./stroopdata.csv')"
   ]
  },
  {
   "cell_type": "markdown",
   "metadata": {},
   "source": [
    "<font size='4'>We calculate the mean,median and mode of congruent and incongruent test timing in sec.<br><br>\n",
    "Table below we calculate the following Count:The number of data sample in each category.<br><br>\n",
    "Mean: Mean in sec<br>\n",
    "std: Standard deviation<br>\n",
    "min: least value in sec in each category.<br>\n",
    "25%: 25% value in sec 1 IQR<br>\n",
    "50%: Median value in sec in each category.<br>\n",
    "75%: 75% value in sec 3 IQR.<br>\n",
    "max: Mode value in sec in each category. 4 IQR<br>"
   ]
  },
  {
   "cell_type": "code",
   "execution_count": 6,
   "metadata": {
    "collapsed": false
   },
   "outputs": [
    {
     "data": {
      "text/html": [
       "<div>\n",
       "<table border=\"1\" class=\"dataframe\">\n",
       "  <thead>\n",
       "    <tr style=\"text-align: right;\">\n",
       "      <th></th>\n",
       "      <th>Congruent</th>\n",
       "      <th>Incongruent</th>\n",
       "    </tr>\n",
       "  </thead>\n",
       "  <tbody>\n",
       "    <tr>\n",
       "      <th>count</th>\n",
       "      <td>24.000000</td>\n",
       "      <td>24.000000</td>\n",
       "    </tr>\n",
       "    <tr>\n",
       "      <th>mean</th>\n",
       "      <td>14.051125</td>\n",
       "      <td>22.015917</td>\n",
       "    </tr>\n",
       "    <tr>\n",
       "      <th>std</th>\n",
       "      <td>3.559358</td>\n",
       "      <td>4.797057</td>\n",
       "    </tr>\n",
       "    <tr>\n",
       "      <th>min</th>\n",
       "      <td>8.630000</td>\n",
       "      <td>15.687000</td>\n",
       "    </tr>\n",
       "    <tr>\n",
       "      <th>25%</th>\n",
       "      <td>11.895250</td>\n",
       "      <td>18.716750</td>\n",
       "    </tr>\n",
       "    <tr>\n",
       "      <th>50%</th>\n",
       "      <td>14.356500</td>\n",
       "      <td>21.017500</td>\n",
       "    </tr>\n",
       "    <tr>\n",
       "      <th>75%</th>\n",
       "      <td>16.200750</td>\n",
       "      <td>24.051500</td>\n",
       "    </tr>\n",
       "    <tr>\n",
       "      <th>max</th>\n",
       "      <td>22.328000</td>\n",
       "      <td>35.255000</td>\n",
       "    </tr>\n",
       "  </tbody>\n",
       "</table>\n",
       "</div>"
      ],
      "text/plain": [
       "       Congruent  Incongruent\n",
       "count  24.000000    24.000000\n",
       "mean   14.051125    22.015917\n",
       "std     3.559358     4.797057\n",
       "min     8.630000    15.687000\n",
       "25%    11.895250    18.716750\n",
       "50%    14.356500    21.017500\n",
       "75%    16.200750    24.051500\n",
       "max    22.328000    35.255000"
      ]
     },
     "execution_count": 6,
     "metadata": {},
     "output_type": "execute_result"
    }
   ],
   "source": [
    "df.describe()"
   ]
  },
  {
   "cell_type": "markdown",
   "metadata": {},
   "source": [
    "<font size='4'>Provide one or two visualizations that show the distribution of the sample data. Write one or two sentences noting what you\n",
    "observe about the plot or plots.?"
   ]
  },
  {
   "cell_type": "code",
   "execution_count": 7,
   "metadata": {
    "collapsed": true
   },
   "outputs": [],
   "source": [
    "# Bar char to be done"
   ]
  },
  {
   "cell_type": "markdown",
   "metadata": {},
   "source": [
    "<font size='4'>Bar Chart clearly show that time take to complete Incongruent stroop test is greater than the time taken to\n",
    "complete Congruent stroop test in all the sample data."
   ]
  },
  {
   "cell_type": "code",
   "execution_count": 8,
   "metadata": {
    "collapsed": true
   },
   "outputs": [],
   "source": [
    "#Box or wishker plot to"
   ]
  },
  {
   "cell_type": "markdown",
   "metadata": {},
   "source": [
    "Box plot show the spread of data in the time(sec) taken to complete the\n",
    "Congruent/Incogruent Stroop Test\n",
    "###Range congruent = max‐min=13.698\n",
    "###Range incongruent = max‐min=19.568\n",
    "CONGRUENT INCONCRUENT\n",
    "min 8.63 15.68\n",
    "25% 11.52 18.66\n",
    "50% 14.23 21.01\n",
    "75% 16.59 24.36\n",
    "max 22.32 35.25"
   ]
  },
  {
   "cell_type": "markdown",
   "metadata": {},
   "source": [
    "<font size='4'>Now, perform the statistical test and report your results. What is your confidence level and your critical\n",
    "statistic value? Do you reject the null hypothesis or fail to reject it? Come to a conclusion in terms of the experiment task. Did the results match up with your expectations?"
   ]
  },
  {
   "cell_type": "code",
   "execution_count": null,
   "metadata": {
    "collapsed": true
   },
   "outputs": [],
   "source": [
    "#calculation"
   ]
  },
  {
   "cell_type": "markdown",
   "metadata": {},
   "source": [
    "#References\n",
    "http://www.imathas.com/stattools/boxplot.html\n",
    "(http://www.imathas.com/stattools/boxplot.html) used to create\n",
    "the box plot.\n",
    "udacity notes and excel to calculate the t stastistic\n",
    "https://www.khanacademy.org/math/probability/desc\n",
    "\n",
    "https://www.khanacademy.org/math/probability/descriptivestatistics/\n",
    "boxandwhiskerplots/\n",
    "v/rangeandmidrange\n",
    "(https://www.khanacademy.org/math/probability/descriptivestatistics/\n",
    "boxandwhiskerplots/\n",
    "v/rangeandmidrange)\n",
    ": how to\n",
    "read box plot\n",
    "http://www.statstutor.ac.uk/resources/uploaded/pairedttest.\n",
    "pdf\n",
    "(http://www.statstutor.ac.uk/resources/uploaded/pairedttest.\n",
    "pdf)\n",
    "t\n",
    "test for dependant\n",
    "http://www.psychology.emory.edu/clinical/bliwise/Tutorials/TOM/meanstests/(http://www.psychology.emory.edu/clinical/bliwise/Tutorials/TOM/meanstests/for\n",
    "assumptions on T test"
   ]
  },
  {
   "cell_type": "code",
   "execution_count": null,
   "metadata": {
    "collapsed": true
   },
   "outputs": [],
   "source": []
  }
 ],
 "metadata": {
  "anaconda-cloud": {},
  "kernelspec": {
   "display_name": "Python [conda root]",
   "language": "python",
   "name": "conda-root-py"
  },
  "language_info": {
   "codemirror_mode": {
    "name": "ipython",
    "version": 2
   },
   "file_extension": ".py",
   "mimetype": "text/x-python",
   "name": "python",
   "nbconvert_exporter": "python",
   "pygments_lexer": "ipython2",
   "version": "2.7.12"
  }
 },
 "nbformat": 4,
 "nbformat_minor": 1
}

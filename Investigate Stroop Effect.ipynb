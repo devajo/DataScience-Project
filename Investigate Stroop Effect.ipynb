{
 "cells": [
  {
   "cell_type": "markdown",
   "metadata": {},
   "source": [
    "<h1 align=\"center\">Investigate Stroop Effect</h1>\n",
    "***\n"
   ]
  },
  {
   "cell_type": "markdown",
   "metadata": {},
   "source": [
    "<font size='4'>In this project will review the basic concepts of statistics, including:\n",
    " - How to identify components of an experiment.\n",
    " - How to use descriptive> statistics to describe qualities of a sample.\n",
    " - How to set up a hypothesis test, make inferences from a sample, and draw conclusions based on the results.\n"
   ]
  },
  {
   "cell_type": "markdown",
   "metadata": {},
   "source": [
    "<font size='4'>What is our independent and dependent variable?<br> \n",
    ">Independent variable is a variable that is being manipulated in an experiment in order to observe the effect\n",
    "on a dependent variable.It is usually plotted along the x-axis of a graph.<br>\n",
    "Congruent/Incogruent Stroop Test Score is the independent variable and is plotted on the X-axis.<br>\n",
    "The time taken to perform Congruent/Incogruent test in seconds is the dependant variable and is usually\n",
    "plotted on Y axis."
   ]
  },
  {
   "cell_type": "markdown",
   "metadata": {},
   "source": [
    "<font size='4'>What is an appropriate set of hypotheses for this task? What kind of statistical test do you expect to perform? Justify your choices.<br>\n",
    ">Null Hypothesis:The mean of the population congruntent and Incorgruent stroop test are equal.<br>\n",
    "$H_o : \\mu_c=\\mu_i$<br>\n",
    ">Alternative hypothesis:The mean of population congruent test and incrocruent test are not equal.Since the popuation standard deviation is not known we will do t-Test for paired sample which are dependant.The sample is dependent because we are measuring the time taken to complete the stroop test for congruent and incogruent data but for the same person.<br>\n",
    "$H_a : \\mu_c \\ne \\mu_i$<br>\n",
    "We will measure effect size by calculating Cohen D and calculate the Confidence interval of the difference in times(in second). between the two test."
   ]
  },
  {
   "cell_type": "markdown",
   "metadata": {
    "collapsed": true
   },
   "source": [
    "<font size=4>Assumptions regarding the paired t-Test are as follows:"
   ]
  },
  {
   "cell_type": "markdown",
   "metadata": {},
   "source": [
    "<font size='4'>Interval or ratio scale of measurement (approximately interval)<br>\n",
    " - Random sampling from a defined population.\n",
    " - Samples or sets of data used to produce the difference scores are linked in the population through repeated   \n",
    "   measurement,natural association, or matching.\n",
    " - Scores are normally distributed in the population; difference scores are normally distributed."
   ]
  },
  {
   "cell_type": "markdown",
   "metadata": {},
   "source": [
    "<font size='4'> Report some descriptive statistics regarding this dataset.Include at least one measure of central tendency and at least one measure of variability.?"
   ]
  },
  {
   "cell_type": "code",
   "execution_count": 40,
   "metadata": {
    "collapsed": true
   },
   "outputs": [],
   "source": [
    "#importing pandas\n",
    "import pandas as pd\n",
    "import matplotlib.pyplot as plt\n",
    "import numpy as np"
   ]
  },
  {
   "cell_type": "code",
   "execution_count": 41,
   "metadata": {
    "collapsed": false
   },
   "outputs": [
    {
     "data": {
      "text/html": [
       "<div>\n",
       "<table border=\"1\" class=\"dataframe\">\n",
       "  <thead>\n",
       "    <tr style=\"text-align: right;\">\n",
       "      <th></th>\n",
       "      <th>Congruent</th>\n",
       "      <th>Incongruent</th>\n",
       "    </tr>\n",
       "  </thead>\n",
       "  <tbody>\n",
       "    <tr>\n",
       "      <th>0</th>\n",
       "      <td>12.079</td>\n",
       "      <td>19.278</td>\n",
       "    </tr>\n",
       "    <tr>\n",
       "      <th>1</th>\n",
       "      <td>16.791</td>\n",
       "      <td>18.741</td>\n",
       "    </tr>\n",
       "    <tr>\n",
       "      <th>2</th>\n",
       "      <td>9.564</td>\n",
       "      <td>21.214</td>\n",
       "    </tr>\n",
       "    <tr>\n",
       "      <th>3</th>\n",
       "      <td>8.630</td>\n",
       "      <td>15.687</td>\n",
       "    </tr>\n",
       "    <tr>\n",
       "      <th>4</th>\n",
       "      <td>14.669</td>\n",
       "      <td>22.803</td>\n",
       "    </tr>\n",
       "    <tr>\n",
       "      <th>5</th>\n",
       "      <td>12.238</td>\n",
       "      <td>20.878</td>\n",
       "    </tr>\n",
       "    <tr>\n",
       "      <th>6</th>\n",
       "      <td>14.692</td>\n",
       "      <td>24.572</td>\n",
       "    </tr>\n",
       "    <tr>\n",
       "      <th>7</th>\n",
       "      <td>8.987</td>\n",
       "      <td>17.394</td>\n",
       "    </tr>\n",
       "    <tr>\n",
       "      <th>8</th>\n",
       "      <td>9.401</td>\n",
       "      <td>20.762</td>\n",
       "    </tr>\n",
       "    <tr>\n",
       "      <th>9</th>\n",
       "      <td>14.480</td>\n",
       "      <td>26.282</td>\n",
       "    </tr>\n",
       "    <tr>\n",
       "      <th>10</th>\n",
       "      <td>22.328</td>\n",
       "      <td>24.524</td>\n",
       "    </tr>\n",
       "    <tr>\n",
       "      <th>11</th>\n",
       "      <td>15.298</td>\n",
       "      <td>18.644</td>\n",
       "    </tr>\n",
       "    <tr>\n",
       "      <th>12</th>\n",
       "      <td>15.073</td>\n",
       "      <td>17.510</td>\n",
       "    </tr>\n",
       "    <tr>\n",
       "      <th>13</th>\n",
       "      <td>16.929</td>\n",
       "      <td>20.330</td>\n",
       "    </tr>\n",
       "    <tr>\n",
       "      <th>14</th>\n",
       "      <td>18.200</td>\n",
       "      <td>35.255</td>\n",
       "    </tr>\n",
       "    <tr>\n",
       "      <th>15</th>\n",
       "      <td>12.130</td>\n",
       "      <td>22.158</td>\n",
       "    </tr>\n",
       "    <tr>\n",
       "      <th>16</th>\n",
       "      <td>18.495</td>\n",
       "      <td>25.139</td>\n",
       "    </tr>\n",
       "    <tr>\n",
       "      <th>17</th>\n",
       "      <td>10.639</td>\n",
       "      <td>20.429</td>\n",
       "    </tr>\n",
       "    <tr>\n",
       "      <th>18</th>\n",
       "      <td>11.344</td>\n",
       "      <td>17.425</td>\n",
       "    </tr>\n",
       "    <tr>\n",
       "      <th>19</th>\n",
       "      <td>12.369</td>\n",
       "      <td>34.288</td>\n",
       "    </tr>\n",
       "    <tr>\n",
       "      <th>20</th>\n",
       "      <td>12.944</td>\n",
       "      <td>23.894</td>\n",
       "    </tr>\n",
       "    <tr>\n",
       "      <th>21</th>\n",
       "      <td>14.233</td>\n",
       "      <td>17.960</td>\n",
       "    </tr>\n",
       "    <tr>\n",
       "      <th>22</th>\n",
       "      <td>19.710</td>\n",
       "      <td>22.058</td>\n",
       "    </tr>\n",
       "    <tr>\n",
       "      <th>23</th>\n",
       "      <td>16.004</td>\n",
       "      <td>21.157</td>\n",
       "    </tr>\n",
       "  </tbody>\n",
       "</table>\n",
       "</div>"
      ],
      "text/plain": [
       "    Congruent  Incongruent\n",
       "0      12.079       19.278\n",
       "1      16.791       18.741\n",
       "2       9.564       21.214\n",
       "3       8.630       15.687\n",
       "4      14.669       22.803\n",
       "5      12.238       20.878\n",
       "6      14.692       24.572\n",
       "7       8.987       17.394\n",
       "8       9.401       20.762\n",
       "9      14.480       26.282\n",
       "10     22.328       24.524\n",
       "11     15.298       18.644\n",
       "12     15.073       17.510\n",
       "13     16.929       20.330\n",
       "14     18.200       35.255\n",
       "15     12.130       22.158\n",
       "16     18.495       25.139\n",
       "17     10.639       20.429\n",
       "18     11.344       17.425\n",
       "19     12.369       34.288\n",
       "20     12.944       23.894\n",
       "21     14.233       17.960\n",
       "22     19.710       22.058\n",
       "23     16.004       21.157"
      ]
     },
     "execution_count": 41,
     "metadata": {},
     "output_type": "execute_result"
    }
   ],
   "source": [
    "# Reading the csv file\n",
    "# use relative path so that the note book work along with the data file when downloaded as a folder.\n",
    "df=pd.read_csv('./stroopdata.csv')\n",
    "#display the data.\n",
    "df"
   ]
  },
  {
   "cell_type": "markdown",
   "metadata": {},
   "source": [
    "<font size='4'>We calculate the mean,median and mode of congruent and incongruent test timing in sec.<br><br>\n",
    "Table below we calculate the following Count:The number of data sample in each category.<br><br>\n",
    "Mean: Mean in sec<br>\n",
    "std: Standard deviation<br>\n",
    "min: least value in sec in each category.<br>\n",
    "25%: 25% value in sec 1 IQR<br>\n",
    "50%: Median value in sec in each category.<br>\n",
    "75%: 75% value in sec 3 IQR.<br>\n",
    "max: Mode value in sec in each category. 4 IQR<br>"
   ]
  },
  {
   "cell_type": "code",
   "execution_count": 43,
   "metadata": {
    "collapsed": false
   },
   "outputs": [
    {
     "data": {
      "text/html": [
       "<div>\n",
       "<table border=\"1\" class=\"dataframe\">\n",
       "  <thead>\n",
       "    <tr style=\"text-align: right;\">\n",
       "      <th></th>\n",
       "      <th>Congruent</th>\n",
       "      <th>Incongruent</th>\n",
       "    </tr>\n",
       "  </thead>\n",
       "  <tbody>\n",
       "    <tr>\n",
       "      <th>count</th>\n",
       "      <td>24.000000</td>\n",
       "      <td>24.000000</td>\n",
       "    </tr>\n",
       "    <tr>\n",
       "      <th>mean</th>\n",
       "      <td>14.051125</td>\n",
       "      <td>22.015917</td>\n",
       "    </tr>\n",
       "    <tr>\n",
       "      <th>std</th>\n",
       "      <td>3.559358</td>\n",
       "      <td>4.797057</td>\n",
       "    </tr>\n",
       "    <tr>\n",
       "      <th>min</th>\n",
       "      <td>8.630000</td>\n",
       "      <td>15.687000</td>\n",
       "    </tr>\n",
       "    <tr>\n",
       "      <th>25%</th>\n",
       "      <td>11.895250</td>\n",
       "      <td>18.716750</td>\n",
       "    </tr>\n",
       "    <tr>\n",
       "      <th>50%</th>\n",
       "      <td>14.356500</td>\n",
       "      <td>21.017500</td>\n",
       "    </tr>\n",
       "    <tr>\n",
       "      <th>75%</th>\n",
       "      <td>16.200750</td>\n",
       "      <td>24.051500</td>\n",
       "    </tr>\n",
       "    <tr>\n",
       "      <th>max</th>\n",
       "      <td>22.328000</td>\n",
       "      <td>35.255000</td>\n",
       "    </tr>\n",
       "  </tbody>\n",
       "</table>\n",
       "</div>"
      ],
      "text/plain": [
       "       Congruent  Incongruent\n",
       "count  24.000000    24.000000\n",
       "mean   14.051125    22.015917\n",
       "std     3.559358     4.797057\n",
       "min     8.630000    15.687000\n",
       "25%    11.895250    18.716750\n",
       "50%    14.356500    21.017500\n",
       "75%    16.200750    24.051500\n",
       "max    22.328000    35.255000"
      ]
     },
     "execution_count": 43,
     "metadata": {},
     "output_type": "execute_result"
    }
   ],
   "source": [
    "df.describe()"
   ]
  },
  {
   "cell_type": "markdown",
   "metadata": {},
   "source": [
    "<font size='4'>Provide one or two visualizations that show the distribution of the sample data. Write one or two sentences noting what you\n",
    "observe about the plot or plots.?"
   ]
  },
  {
   "cell_type": "code",
   "execution_count": 102,
   "metadata": {
    "collapsed": false
   },
   "outputs": [
    {
     "data": {
      "image/png": "[encoded data removed]",
      "text/plain": [
       "<matplotlib.figure.Figure at 0xb2640b8>"
      ]
     },
     "metadata": {},
     "output_type": "display_data"
    }
   ],
   "source": [
    "# Bar Chart, x-axis all obsevation,y-axis time in second  \n",
    "\n",
    "plt.xlabel('Each obsevation of both the scores')\n",
    "plt.ylabel('Times in Seconds')\n",
    "plt.title(\"Comparision of Congruent and Incongruent scores in seconds for all observations\",y=1.03)\n",
    "plt.xticks(np.arange(1,25))\n",
    "ind=np.arange(1,25)\n",
    "width=0.35\n",
    "con_dat=df.Congruent\n",
    "incon_data=df.Incongruent\n",
    "rects1 = plt.bar(ind,con_data,width, color='r')\n",
    "#ind +width so that bar chart is next to the bar next rect 1\n",
    "rects2 = plt.bar(ind+width,incongruent_data, width, color='y')\n",
    "plt.show()\n",
    "\n"
   ]
  },
  {
   "cell_type": "markdown",
   "metadata": {},
   "source": [
    "<font size='4'>Bar Chart clearly show that time take to complete Incongruent stroop test is greater than the time taken to\n",
    "complete Congruent stroop test in all the sample data."
   ]
  },
  {
   "cell_type": "code",
   "execution_count": 103,
   "metadata": {
    "collapsed": true
   },
   "outputs": [],
   "source": [
    "#Box or wishker plot to"
   ]
  },
  {
   "cell_type": "markdown",
   "metadata": {},
   "source": [
    "Box plot show the spread of data in the time(sec) taken to complete the\n",
    "Congruent/Incogruent Stroop Test\n",
    "###Range congruent = max‐min=13.698\n",
    "###Range incongruent = max‐min=19.568\n",
    "CONGRUENT INCONCRUENT\n",
    "min 8.63 15.68\n",
    "25% 11.52 18.66\n",
    "50% 14.23 21.01\n",
    "75% 16.59 24.36\n",
    "max 22.32 35.25"
   ]
  },
  {
   "cell_type": "markdown",
   "metadata": {},
   "source": [
    "<font size='4'>Now, perform the statistical test and report your results. What is your confidence level and your critical\n",
    "statistic value? Do you reject the null hypothesis or fail to reject it? Come to a conclusion in terms of the experiment task. Did the results match up with your expectations?"
   ]
  },
  {
   "cell_type": "code",
   "execution_count": null,
   "metadata": {
    "collapsed": true
   },
   "outputs": [],
   "source": [
    "#calculation"
   ]
  },
  {
   "cell_type": "markdown",
   "metadata": {},
   "source": [
    "#References\n",
    "http://www.imathas.com/stattools/boxplot.html\n",
    "(http://www.imathas.com/stattools/boxplot.html) used to create\n",
    "the box plot.\n",
    "udacity notes and excel to calculate the t stastistic\n",
    "https://www.khanacademy.org/math/probability/desc\n",
    "\n",
    "https://www.khanacademy.org/math/probability/descriptivestatistics/\n",
    "boxandwhiskerplots/\n",
    "v/rangeandmidrange\n",
    "(https://www.khanacademy.org/math/probability/descriptivestatistics/\n",
    "boxandwhiskerplots/\n",
    "v/rangeandmidrange)\n",
    ": how to\n",
    "read box plot\n",
    "http://www.statstutor.ac.uk/resources/uploaded/pairedttest.\n",
    "pdf\n",
    "(http://www.statstutor.ac.uk/resources/uploaded/pairedttest.\n",
    "pdf)\n",
    "t\n",
    "test for dependant\n",
    "http://www.psychology.emory.edu/clinical/bliwise/Tutorials/TOM/meanstests/(http://www.psychology.emory.edu/clinical/bliwise/Tutorials/TOM/meanstests/for\n",
    "assumptions on T test"
   ]
  },
  {
   "cell_type": "code",
   "execution_count": null,
   "metadata": {
    "collapsed": true
   },
   "outputs": [],
   "source": []
  }
 ],
 "metadata": {
  "anaconda-cloud": {},
  "kernelspec": {
   "display_name": "Python [conda root]",
   "language": "python",
   "name": "conda-root-py"
  },
  "language_info": {
   "codemirror_mode": {
    "name": "ipython",
    "version": 2
   },
   "file_extension": ".py",
   "mimetype": "text/x-python",
   "name": "python",
   "nbconvert_exporter": "python",
   "pygments_lexer": "ipython2",
   "version": "2.7.12"
  }
 },
 "nbformat": 4,
 "nbformat_minor": 1
}

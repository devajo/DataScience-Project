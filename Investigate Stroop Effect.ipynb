{
 "cells": [
  {
   "cell_type": "markdown",
   "metadata": {},
   "source": [
    "<h1 align=\"center\">Investigate Stroop Effect</h1>\n",
    "***\n"
   ]
  },
  {
   "cell_type": "markdown",
   "metadata": {},
   "source": [
    "<font size='4'>In this project will review the basic concepts of statistics, including:\n",
    " - How to identify components of an experiment.\n",
    " - How to use descriptive> statistics to describe qualities of a sample.\n",
    " - How to set up a hypothesis test, make inferences from a sample, and draw conclusions based on the results.\n"
   ]
  },
  {
   "cell_type": "markdown",
   "metadata": {},
   "source": [
    "<font size='4'>1) What is our independent and dependent variable?<br> \n",
    ">Independent variable is a variable that is being manipulated in an experiment in order to observe the effect\n",
    "on a dependent variable.It is usually plotted along the x-axis of a graph.<br>\n",
    "Congruent/Incogruent Stroop Test Score is the independent variable and is plotted on the X-axis.<br>\n",
    "The time taken to perform Congruent/Incogruent test in seconds is the dependant variable and is usually\n",
    "plotted on Y axis."
   ]
  },
  {
   "cell_type": "markdown",
   "metadata": {},
   "source": [
    "<font size='4'>2) What is an appropriate set of hypotheses for this task? What kind of statistical test do you expect to perform? Justify your choices.<br>\n",
    ">2a)Null Hypothesis:The mean of the population congruntent and Incorgruent stroop test are equal.<br>\n",
    "$H_o : \\mu_c=\\mu_i$<br>\n",
    ">Alternative hypothesis:The mean of population congruent test and incrocruent test are not equal.Since the popuation standard deviation is not known we will do t-Test for paired sample which are dependant.The sample is dependent because we are measuring the time taken to complete the stroop test for congruent and incogruent data but for the same person.<br>\n",
    "$H_a : \\mu_c \\ne \\mu_i$<br>\n",
    "We will measure effect size by calculating Cohen D and calculate the Confidence interval of the difference in times(in second). between the two test."
   ]
  },
  {
   "cell_type": "markdown",
   "metadata": {
    "collapsed": true
   },
   "source": [
    "<font size=4>2b)Assumptions regarding the paired t-Test are as follows:"
   ]
  },
  {
   "cell_type": "markdown",
   "metadata": {},
   "source": [
    "<font size='4'>Interval or ratio scale of measurement (approximately interval)<br>\n",
    " - Random sampling from a defined population.\n",
    " - Samples or sets of data used to produce the difference scores are linked in the population through repeated   \n",
    "   measurement,natural association, or matching.\n",
    " - Scores are normally distributed in the population; difference scores are normally distributed."
   ]
  },
  {
   "cell_type": "code",
   "execution_count": null,
   "metadata": {
    "collapsed": true
   },
   "outputs": [],
   "source": []
  }
 ],
 "metadata": {
  "anaconda-cloud": {},
  "kernelspec": {
   "display_name": "Python [conda root]",
   "language": "python",
   "name": "conda-root-py"
  },
  "language_info": {
   "codemirror_mode": {
    "name": "ipython",
    "version": 2
   },
   "file_extension": ".py",
   "mimetype": "text/x-python",
   "name": "python",
   "nbconvert_exporter": "python",
   "pygments_lexer": "ipython2",
   "version": "2.7.12"
  }
 },
 "nbformat": 4,
 "nbformat_minor": 1
}

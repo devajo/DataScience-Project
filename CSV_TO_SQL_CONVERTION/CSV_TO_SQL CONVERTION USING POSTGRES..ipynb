{
 "cells": [
  {
   "cell_type": "markdown",
   "metadata": {
    "nbpresent": {
     "id": "df0bc4af-687a-4fc0-802b-8420715e6320"
    }
   },
   "source": [
    "# CSV_TO_SQL CONVERTION USING POSTGRES\n"
   ]
  },
  {
   "cell_type": "raw",
   "metadata": {
    "nbpresent": {
     "id": "75425503-9d08-47cf-b19b-6f04f85d6eb2"
    }
   },
   "source": [
    "I am currently working on a data analysis project which involves large csv file,100MB to 6 GB.If we try to load this amount of data in a pandas dataframe, it fails due to memory limitation of a home computer or a laptop.\n",
    "Solution to this is to convert the csv files to sql and then read the sql database in pandas to conduct our data analysis.\n",
    "This tutorial is useful for anyone who is working on Windows/python and Anaconda framework to conduct the research.\n",
    "    "
   ]
  },
  {
   "cell_type": "markdown",
   "metadata": {},
   "source": [
    "## My Local Machine configration:\n",
    "Microsoft Windows [Version 10.0.14393]<br>\n",
    "Python 2.7.12 |Anaconda 4.2.0 (64-bit)<br>\n",
    "INSTALLED RAM : 4 GB<br>\n",
    "HARD DISK: 920 GB<br>"
   ]
  },
  {
   "cell_type": "raw",
   "metadata": {
    "nbpresent": {
     "id": "f2ea5ba8-e1a5-4868-8eed-01f0cf9602f9"
    }
   },
   "source": [
    "There are few way of converting csv to sql in a efficient way.\n",
    "Using Postgres Database And pscopg2 library:We will focus on this in the tutorial."
   ]
  },
  {
   "cell_type": "raw",
   "metadata": {
    "nbpresent": {
     "id": "d841d8f7-5bf7-4c46-98de-6e844f8ca879"
    }
   },
   "source": [
    "Postgres SQl can dowloaded from https://www.postgresql.org/download/ by choosing your relavent operating system.After installing postres database,you will need setup your admin password."
   ]
  },
  {
   "cell_type": "raw",
   "metadata": {
    "nbpresent": {
     "id": "90890cfc-db90-435a-b636-219cdfa30b77"
    }
   },
   "source": [
    "#Usefull command in postgres sql\n",
    "\\l = list all the databases names.\n",
    "\\c dbname = connect to the database named dbname.\n",
    "\\dt = list the table in the database you have connected.\n",
    "select * from tablename; = display all the record from table named tablename.\n",
    "delete from tablename; = delete all record in the table named tablename.\n",
    "copy from  and create table are already discussed.\n",
    "# to check the no of rows for big table,rel name is the name of the table.\n",
    "SELECT reltuples::bigint AS estimate FROM pg_class where relname='transaction';\n"
   ]
  },
  {
   "cell_type": "raw",
   "metadata": {
    "nbpresent": {
     "id": "153b4811-3602-4b53-86da-e4cd7c687181"
    }
   },
   "source": [
    "POSTGRES DATABASE INFORMATION:\n",
    "server:localhost\n",
    "database name: postgres\n",
    "port: 5432\n",
    "user:posgres\n",
    "password :******"
   ]
  },
  {
   "cell_type": "markdown",
   "metadata": {
    "nbpresent": {
     "id": "fea02745-ef4d-4ed3-a766-524da65716cd"
    }
   },
   "source": [
    "<img src=\"sqlshell.png\">"
   ]
  },
  {
   "cell_type": "raw",
   "metadata": {
    "nbpresent": {
     "id": "22940093-4d8e-45bd-be68-630f2ff2e8a4"
    }
   },
   "source": [
    "Some convention and notes to avoid confusion are as follows.\n",
    "#comments for clarification,not to be used on the sql prompt.\n",
    "Screen shot only for first few examples and important example only."
   ]
  },
  {
   "cell_type": "raw",
   "metadata": {
    "nbpresent": {
     "id": "3838f85c-9c79-41b3-8b0f-f5b8fa083378"
    }
   },
   "source": [
    "We start of creating a new database for our project by using the following command in the PSQL Shell command prompt."
   ]
  },
  {
   "cell_type": "raw",
   "metadata": {
    "nbpresent": {
     "id": "35aec492-c20f-4b96-b994-ff2da6c178b4"
    }
   },
   "source": [
    "# create a database named test in postgres: note that postgres will display \"CREATE DATABASE\" on the    \n",
    "# next line if the database was sucessfully created.\n",
    "create database test;\n"
   ]
  },
  {
   "cell_type": "markdown",
   "metadata": {
    "nbpresent": {
     "id": "68e2b1d7-336b-4b3f-bb79-ecbeeeff3b03"
    }
   },
   "source": [
    "<img src=\"sc1.png\">"
   ]
  },
  {
   "cell_type": "raw",
   "metadata": {
    "nbpresent": {
     "id": "08c4f537-a07d-49d3-a981-02e7a9b83d24"
    }
   },
   "source": [
    "# list all the database and their details\n",
    "\\l"
   ]
  },
  {
   "cell_type": "raw",
   "metadata": {
    "nbpresent": {
     "id": "e8a92e61-4537-471d-a494-2dc4a9c5b729"
    }
   },
   "source": [
    "We want to convert csv files into sql tables which reside in a database named test.Their is a possiblity that we want to convert one csv file to one corresponding sql table or convert multiple csv file and merge them into a single sql table.\n",
    "For that we need to connect to the database the database using the command below. "
   ]
  },
  {
   "cell_type": "raw",
   "metadata": {
    "collapsed": true,
    "nbpresent": {
     "id": "93ef31d8-89fa-48ec-bd74-6d400910d254"
    }
   },
   "source": [
    "# connect to the database named test witch we created earlier.\n",
    "# postgres displays a message stating you are connected to test as user postgres\n",
    "\\c test;"
   ]
  },
  {
   "cell_type": "raw",
   "metadata": {
    "nbpresent": {
     "id": "68f3dfdd-6c4f-49ea-88f6-740019845cd4"
    }
   },
   "source": [
    "Below is the sample of csv we will convert to database table."
   ]
  },
  {
   "cell_type": "raw",
   "metadata": {
    "nbpresent": {
     "id": "4637298e-26f4-4df2-8c44-6ac6ffb61476"
    }
   },
   "source": [
    "store_id\tstate_code\tpost_code\tgroup_store\n",
    "1\tVIC\t3558\t0\n",
    "2\tVIC\t3124\t0\n",
    "3\tWA\t6107\t1\n",
    "4\tVIC\t3214\t0\n",
    "5\tVIC\t3172\t0\n",
    "6\tNSW\t2089\t0\n",
    "7\tNSW\t2460\t0\n",
    "8\tVIC\t3107\t0\n",
    "9\tVIC\t3130\t0"
   ]
  },
  {
   "cell_type": "raw",
   "metadata": {
    "nbpresent": {
     "id": "cb6275ac-9803-41ba-bc52-e9dab9a780a2"
    }
   },
   "source": [
    "We create a table structure similar to the csv file before converting. "
   ]
  },
  {
   "cell_type": "raw",
   "metadata": {
    "nbpresent": {
     "id": "1e8e85d4-2763-4fac-ad62-93a12faa33b2"
    }
   },
   "source": [
    "# create table is the command followed by the name of the table you want to create ie \"store\" in this  \n",
    "# case,(store_id is the name of the column followed by the data type you want it to be,primary key  \n",
    "# to specify that this is the primary key and it is not null.\n",
    "# Followed by a ','comma.Similarly we define all the coulumns in the table.\n",
    "# use exactly the same name and quote \"\" while using copy for the column names. else copy from will not work.\n",
    "# command below.\n",
    "create table store(store_id integer primary key not null,\"state_code\" text null,post_code integer not null,group_store bool not null);\n",
    "# The command above created the table structure below."
   ]
  },
  {
   "cell_type": "markdown",
   "metadata": {
    "nbpresent": {
     "id": "3f54322f-061d-4e42-8433-0e2655cf2dba"
    }
   },
   "source": [
    "Display the table structure we just created.We used the following command to check the table structure created.\n",
    "select * from store;\n",
    "<img src='sc2.png'>"
   ]
  },
  {
   "cell_type": "raw",
   "metadata": {
    "nbpresent": {
     "id": "3304984e-42ea-4f74-9a96-e74b56218792"
    }
   },
   "source": [
    "Next step is to insert all the records in the test.csv to the store table structure we created above using the following command."
   ]
  },
  {
   "cell_type": "raw",
   "metadata": {
    "nbpresent": {
     "id": "7675f292-8b48-4908-ada5-cd8149b7d929"
    }
   },
   "source": [
    "# copy is the command name,store is the name of the table(store_id,state_code,post_code,group_store) we provide all the column  \n",
    "# name of the table exactly as we did at the time of create table.\n",
    "# from E'C:\\\\Folder name\\\\Code\\\\test.txt' E is used as Escape sequuence in postgres and \\\\ instead of \\ in Windows environment to specify the path where the file is located\n",
    "# E'\\t' specifing the tab delimiter \n",
    "copy store(store_id,state_code,post_code,group_store) from E'C:\\\\Folder Name\\\\Devashish Code\\\\test.txt'WITH DELIMITER E'\\t' CSV HEADER;"
   ]
  },
  {
   "cell_type": "markdown",
   "metadata": {
    "nbpresent": {
     "id": "4072fdaa-2ad3-4988-99f6-707c91d9e624"
    }
   },
   "source": [
    "The code work as long the right path is provided.The image is masked near the folder to protect privacy.\n",
    "<img src='sc3.png'>"
   ]
  },
  {
   "cell_type": "raw",
   "metadata": {
    "nbpresent": {
     "id": "34d8ab7e-e706-4f0c-9af3-754d0aa8ba6a"
    }
   },
   "source": [
    "Now we want convert multiple file in csv format in to SQL table."
   ]
  },
  {
   "cell_type": "raw",
   "metadata": {
    "collapsed": true,
    "nbpresent": {
     "id": "8d454e93-2dcf-491b-adda-d7e971ae63ac"
    }
   },
   "source": [
    "1) we could possibly do it postgres sql ie. write a for loop and pass all the file names(*.csv) and use the command COPY FROM IN \n",
    "   PSOTGRES SQL to achieve the result. Check postgrsql documentation on how to do this.\n",
    "2) We will achieve the result using a module called psycopg2 and python."
   ]
  },
  {
   "cell_type": "code",
   "execution_count": 1,
   "metadata": {
    "collapsed": true,
    "nbpresent": {
     "id": "d794542c-b4bd-4b66-9f6f-91c3158a3f8f"
    }
   },
   "outputs": [],
   "source": [
    "import psycopg2\n",
    "import pandas as pd\n"
   ]
  },
  {
   "cell_type": "code",
   "execution_count": 2,
   "metadata": {
    "collapsed": false,
    "nbpresent": {
     "id": "8ec215e8-3a46-42a1-ad5b-fe59a6afacbd"
    }
   },
   "outputs": [],
   "source": [
    "# import glob to use it to get all the file name in a directory.\n",
    "# there are 2 file in this directory we want to convert to sql database.\n",
    "#import glob module\n",
    "import glob\n",
    "# A list, named \"file\" having the paths of file we want to convert csv to sql. \n",
    "file=glob.glob(r'c:/MelbDatathon2017/Devashish Code/test/*.*')\n"
   ]
  },
  {
   "cell_type": "code",
   "execution_count": 3,
   "metadata": {
    "collapsed": false,
    "nbpresent": {
     "id": "e5a8d8cb-c731-4e0f-8594-a0f7f8564da9"
    }
   },
   "outputs": [
    {
     "name": "stdout",
     "output_type": "stream",
     "text": [
      "['c:/MelbDatathon2017/Devashish Code/test\\\\test.txt', 'c:/MelbDatathon2017/Devashish Code/test\\\\test2.txt']\n"
     ]
    }
   ],
   "source": [
    "# print the list,named \"file\"\n",
    "print file\n",
    "\n",
    "\n",
    "\n"
   ]
  },
  {
   "cell_type": "code",
   "execution_count": 4,
   "metadata": {
    "collapsed": false,
    "nbpresent": {
     "id": "d5b31fc2-be2a-47c0-9911-5653abacbd62"
    }
   },
   "outputs": [],
   "source": [
    "# we notice that 2 backslash \"\\\\\" in the file path which we need to convert front slash \"/\" \n",
    "# define a empty list new, for storage\n",
    "new=[]\n",
    "# looping through list name, \"file\" until the last element of the list.\n",
    "for all in range(len(file)):\n",
    "    # replacing first item in the \"list\"  with the correct slash for windows file path and storing in a variable called var \n",
    "    var=file[all].replace('\\\\','/')\n",
    "    #appending the var to a list called new.\n",
    "    new.append(var)\n",
    "\n",
    "\n",
    "    "
   ]
  },
  {
   "cell_type": "raw",
   "metadata": {
    "collapsed": false
   },
   "source": [
    "# list with the correct path for windows\n",
    "print new"
   ]
  },
  {
   "cell_type": "code",
   "execution_count": 5,
   "metadata": {
    "collapsed": false,
    "nbpresent": {
     "id": "3d40f3c0-3c79-4dd9-86fd-aef2d22e651e"
    }
   },
   "outputs": [],
   "source": [
    "# declaration a conn variable to connect to the postgres sql database\n",
    "conn = psycopg2.connect(host=\"localhost\",database=\"test\",user=\"postgres\",password=\"ram501shi\")\n",
    "cur=conn.cursor()\n",
    "\n"
   ]
  },
  {
   "cell_type": "raw",
   "metadata": {
    "collapsed": true
   },
   "source": [
    "Before we convert the csv file to sql table we have to create a table named \"store\" in postgres sql with similar structure as test.txt and test2.txt"
   ]
  },
  {
   "cell_type": "raw",
   "metadata": {
    "collapsed": true
   },
   "source": [
    "    # Sample how the csv file look\n",
    "-----------------------------------------------------\n",
    "test.csv\n",
    "-----------------------------------------------------\n",
    "store_id\tstate_code\tpost_code\tgroup_store\n",
    "1\tVIC\t3558\t0\n",
    "2\tVIC\t3124\t0\n",
    "3\tWA\t6107\t1\n",
    "4\tVIC\t3214\t0\n",
    "5\tVIC\t3172\t0\n",
    "6\tNSW\t2089\t0\n",
    "7\tNSW\t2460\t0\n",
    "8\tVIC\t3107\t0\n",
    "9\tVIC\t3130\t0\n",
    "----------------------------------------------------\n",
    "test2.txt\n",
    "----------------------------------------------------\n",
    "store_id\tstate_code\tpost_code\tgroup_store\n",
    "10\tVIC\t3558\t0\n",
    "11\tVIC\t3124\t0\n",
    "12\tWA\t6107\t1\n",
    "13\tVIC\t3214\t0\n",
    "14\tVIC\t3172\t0\n",
    "15\tNSW\t2089\t0\n",
    "16\tNSW\t2460\t0\n",
    "17\tVIC\t3107\t0\n",
    "18\tVIC\t3130\t0\n"
   ]
  },
  {
   "cell_type": "code",
   "execution_count": 6,
   "metadata": {
    "collapsed": false,
    "nbpresent": {
     "id": "14087e54-75d3-45b0-8862-818a521a8e54"
    }
   },
   "outputs": [
    {
     "ename": "ProgrammingError",
     "evalue": "relation \"store\" already exists\n",
     "output_type": "error",
     "traceback": [
      "\u001b[0;31m---------------------------------------------------------------------------\u001b[0m",
      "\u001b[0;31mProgrammingError\u001b[0m                          Traceback (most recent call last)",
      "\u001b[0;32m<ipython-input-6-d9a1303e2316>\u001b[0m in \u001b[0;36m<module>\u001b[0;34m()\u001b[0m\n\u001b[1;32m      1\u001b[0m \u001b[1;31m#using cur.execute\u001b[0m\u001b[1;33m\u001b[0m\u001b[1;33m\u001b[0m\u001b[0m\n\u001b[1;32m      2\u001b[0m \u001b[1;31m#Create a database name store with columns name as store id,state_code,post_code,group_store and defining the variable type\u001b[0m\u001b[1;33m\u001b[0m\u001b[1;33m\u001b[0m\u001b[0m\n\u001b[0;32m----> 3\u001b[0;31m \u001b[0mcur\u001b[0m\u001b[1;33m.\u001b[0m\u001b[0mexecute\u001b[0m\u001b[1;33m(\u001b[0m\u001b[1;34m\"create table store(store_id integer primary key,state_code text,post_code integer,group_store bool);\"\u001b[0m\u001b[1;33m)\u001b[0m\u001b[1;33m\u001b[0m\u001b[0m\n\u001b[0m\u001b[1;32m      4\u001b[0m \u001b[1;31m# commting the changes\u001b[0m\u001b[1;33m\u001b[0m\u001b[1;33m\u001b[0m\u001b[0m\n\u001b[1;32m      5\u001b[0m \u001b[0mconn\u001b[0m\u001b[1;33m.\u001b[0m\u001b[0mcommit\u001b[0m\u001b[1;33m(\u001b[0m\u001b[1;33m)\u001b[0m\u001b[1;33m\u001b[0m\u001b[0m\n",
      "\u001b[0;31mProgrammingError\u001b[0m: relation \"store\" already exists\n"
     ]
    }
   ],
   "source": [
    "#using cur.execute\n",
    "#Create a database name store with columns name as store id,state_code,post_code,group_store and defining the variable type\n",
    "cur.execute(\"create table store(store_id integer primary key,state_code text,post_code integer,group_store bool);\")\n",
    "# commting the changes \n",
    "conn.commit()"
   ]
  },
  {
   "cell_type": "markdown",
   "metadata": {},
   "source": [
    "<img src='sc4.png'>"
   ]
  },
  {
   "cell_type": "markdown",
   "metadata": {
    "collapsed": false
   },
   "source": [
    "We want use copy_expert method of \"cursor\" to convert the 2 csv file in a directory into the sql tables.\n",
    "We have created the empty table named \"store\" with the same structure as the csv fle."
   ]
  },
  {
   "cell_type": "raw",
   "metadata": {},
   "source": [
    "#We want to pass 2 parameters to the copy_expert method.\n",
    "sql-- sql statement,we will pass the copy statement used previously in prostgres sql. \n",
    "f --- as reference to open the file.\n",
    "Since we are converting multiple csv to sql table,we declare variable called sql and construct the sql statement in this format.\n",
    "\n",
    "copy store(store_id,state_code,post_code,group_store) from 'C:/file path' delimiter E'\\t' csv header\n"
   ]
  },
  {
   "cell_type": "code",
   "execution_count": null,
   "metadata": {
    "collapsed": false,
    "nbpresent": {
     "id": "d767309f-78ed-44c9-94bc-4c0c044b3b0a"
    }
   },
   "outputs": [],
   "source": [
    "# we iterate through the list called \"new\" while length of list is less than length of the list new\n",
    "for text in range(len(new)):\n",
    "    # open the file and pass the first file   \n",
    "    f=open(new[text],'r')\n",
    "    # construct the sql statement\n",
    "    sql=\"copy store(store_id,state_code,post_code,group_store) from \"+ \"\\'\"+new[text] + \"\\'\"+ \"delimiter E'\\\\t' csv header\"\n",
    "    # pass the sql and f to the copy_expert method\n",
    "    cur.copy_expert(sql,f)\n",
    "    # commit the results.\n",
    "    conn.commit()\n",
    "    #conn.rollback()\n",
    "    \n",
    "\n",
    "\n",
    "    \n",
    "        \n",
    "\n",
    "\n",
    "    \n"
   ]
  },
  {
   "cell_type": "markdown",
   "metadata": {},
   "source": [
    "<img src='sc5.png'>"
   ]
  },
  {
   "cell_type": "raw",
   "metadata": {},
   "source": [
    "Note if we run the above code again it will not run as we have defined store_id as primary key which should be unique.Hence the error.Example is below."
   ]
  },
  {
   "cell_type": "raw",
   "metadata": {},
   "source": [
    "---------------------------------------------------------------------------\n",
    "IntegrityError                            Traceback (most recent call last)\n",
    "<ipython-input-23-80ebbd27fec3> in <module>()\n",
    "      6     sql=\"copy store(store_id,state_code,post_code,group_store) from \"+ \"\\'\"+new[text] + \"\\'\"+ \"delimiter E'\\\\t' csv header\"\n",
    "      7     # pass the sql and f to the copy_expert method\n",
    "----> 8     cur.copy_expert(sql,f)\n",
    "      9     # commit the results.\n",
    "     10     conn.commit()\n",
    "\n",
    "IntegrityError: duplicate key value violates unique constraint \"store_pkey\"\n",
    "DETAIL:  Key (store_id)=(1) already exists.\n",
    "CONTEXT:  COPY store, line 2"
   ]
  },
  {
   "cell_type": "code",
   "execution_count": null,
   "metadata": {
    "collapsed": true
   },
   "outputs": [],
   "source": []
  }
 ],
 "metadata": {
  "anaconda-cloud": {},
  "kernelspec": {
   "display_name": "Python [conda root]",
   "language": "python",
   "name": "conda-root-py"
  },
  "language_info": {
   "codemirror_mode": {
    "name": "ipython",
    "version": 2
   },
   "file_extension": ".py",
   "mimetype": "text/x-python",
   "name": "python",
   "nbconvert_exporter": "python",
   "pygments_lexer": "ipython2",
   "version": "2.7.12"
  },
  "nbpresent": {
   "slides": {},
   "themes": {}
  }
 },
 "nbformat": 4,
 "nbformat_minor": 1
}
